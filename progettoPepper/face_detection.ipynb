{
 "cells": [
  {
   "cell_type": "code",
   "execution_count": 1,
   "id": "0947a1b3",
   "metadata": {},
   "outputs": [],
   "source": [
    "import os\n",
    "import face_recognition\n",
    "import glob\n",
    "\n",
    "last_time = None\n",
    "pepperPhoto = \"C:/Users/luigi/Documents/personeDaRiconoscere/foto.jpg\"\n",
    "\n",
    "\n",
    "class FaceRecognizer:\n",
    "\n",
    "    def __init__(self):\n",
    "        # Carica le immagini e calcola embed\n",
    "        self.face_embedding_persona = self.extract_embed()\n",
    "\n",
    "    def extract_embed(self):\n",
    "        embed = {}\n",
    "        persone = \"C:/Users/luigi/Documents/persone\"\n",
    "        immagini = []\n",
    "        nomi_immagini = []\n",
    "        for nome_immagine in os.listdir(persone):\n",
    "            percorso_immagine = os.path.join(persone, nome_immagine)\n",
    "            immagine = face_recognition.load_image_file(percorso_immagine)\n",
    "            immagini.append(immagine)\n",
    "            nomi_immagini.append(os.path.splitext(nome_immagine)[0])\n",
    "\n",
    "        # Confronta l'immagine acquisita con le persone memorizzate\n",
    "        for immagine, nome_immagine in zip(immagini, nomi_immagini):\n",
    "            print(nome_immagine)\n",
    "            # Calcola i face embeddings per l'immagine delle persone\n",
    "            embed[nome_immagine]= face_recognition.face_encodings(immagine)[0]\n",
    "        return embed\n",
    "\n",
    "    def recognizer(self):\n",
    "        pepperPhoto = \"C:/Users/luigi/Documents/personeDaRiconoscere/foto.jpg\"\n",
    "        last_time = None\n",
    "        print(\"ciao\")\n",
    "        while True:\n",
    "            try:\n",
    "                new_time = os.path.getmtime(pepperPhoto)\n",
    "                if last_time == new_time:\n",
    "                    continue\n",
    "                last_time = new_time\n",
    "                percorso_ultima_immagine = pepperPhoto\n",
    "                if percorso_ultima_immagine:\n",
    "                    print(\"Immagine Trovata\")\n",
    "                else:\n",
    "                    print(\"Nessuna immagine trovata nella cartella specificata.\")\n",
    "\n",
    "                # Carica immagine e calcola gli embedding\n",
    "                immagine = face_recognition.load_image_file(percorso_ultima_immagine)\n",
    "                face_embedding = face_recognition.face_encodings(immagine)[0]\n",
    "\n",
    "                # Confronta l'immagine acquisita con le persone memorizzate\n",
    "                for key in self.face_embedding_persona.keys() :\n",
    "\n",
    "                    confronto = face_recognition.compare_faces([self.face_embedding_persona[key]], face_embedding)\n",
    "\n",
    "                    if confronto[0]:\n",
    "                        print(\"Il paziente\", key + \" e' presente\")\n",
    "                        out = \"Il paziente\", key + \" e' presente\"\n",
    "                        with open('output.json', 'w') as file:\n",
    "                            print(\"prima di salvare\")\n",
    "                            print(os.path.abspath(\"output.json\"))\n",
    "                            file.write(key)\n",
    "                            print(\"dopos di salvare\")\n",
    "                    else:\n",
    "                        print(\"Il paziente\", key + \" non è presente\")\n",
    "            except Exception as e:\n",
    "                print(e)\n",
    "                pass\n"
   ]
  },
  {
   "cell_type": "code",
   "execution_count": null,
   "id": "8aef2eb2",
   "metadata": {},
   "outputs": [
    {
     "name": "stdout",
     "output_type": "stream",
     "text": [
      "alessandro\n",
      "luigi\n",
      "masa\n",
      "Nicola\n",
      "ciao\n",
      "Immagine Trovata\n",
      "Il paziente alessandro non è presente\n",
      "Il paziente luigi e' presente\n",
      "prima di salvare\n",
      "dopos di salvare\n",
      "Il paziente masa non è presente\n",
      "Il paziente Nicola non è presente\n"
     ]
    }
   ],
   "source": [
    "FaceRecognizer=FaceRecognizer()\n",
    "FaceRecognizer.recognizer()"
   ]
  },
  {
   "cell_type": "code",
   "execution_count": null,
   "id": "262c35a4",
   "metadata": {},
   "outputs": [],
   "source": []
  }
 ],
 "metadata": {
  "kernelspec": {
   "display_name": "Python 3 (ipykernel)",
   "language": "python",
   "name": "python3"
  },
  "language_info": {
   "codemirror_mode": {
    "name": "ipython",
    "version": 3
   },
   "file_extension": ".py",
   "mimetype": "text/x-python",
   "name": "python",
   "nbconvert_exporter": "python",
   "pygments_lexer": "ipython3",
   "version": "3.8.0"
  }
 },
 "nbformat": 4,
 "nbformat_minor": 5
}
