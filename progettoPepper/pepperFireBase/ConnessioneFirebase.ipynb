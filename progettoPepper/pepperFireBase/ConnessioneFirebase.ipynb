{
 "cells": [
  {
   "cell_type": "code",
   "execution_count": null,
   "id": "5d6bd1f5",
   "metadata": {},
   "outputs": [],
   "source": [
    "# import required modules\n",
    "import datetime\n",
    "import firebase_admin\n",
    "from firebase_admin import db, credentials"
   ]
  },
  {
   "cell_type": "code",
   "execution_count": null,
   "id": "cda78e26",
   "metadata": {},
   "outputs": [],
   "source": [
    "# authenticate to firebase\n",
    "cred = credentials.Certificate(\"credenziali.json\")\n",
    "firebase_admin.initialize_app(cred, {\"databaseURL\": \"https://pepprname-default-rtdb.europe-west1.firebasedatabase.app/\"})"
   ]
  },
  {
   "cell_type": "code",
   "execution_count": null,
   "id": "3ce85ebd",
   "metadata": {},
   "outputs": [
    {
     "name": "stdout",
     "output_type": "stream",
     "text": [
      "Modifica nel database rilevata.\n",
      "{'Antonio': {'DATE': '6/29/2023', 'NAME': 'Antonio', 'TIME': '2:12:55 PM'}, 'Falco': {'DATE': '6/30/2023', 'NAME': 'Falco', 'TIME': '8:26:53 AM'}, 'Luca': {'DATE': '6/30/2023', 'NAME': 'Luca', 'TIME': '8:25:09 AM'}, 'Luigi': {'DATE': '7/4/2023', 'NAME': 'Luigi', 'TIME': '12:04:52 PM'}, 'PP': {'DATE': '6/29/2023', 'TIME': '2:06:05 PM'}, 'Paolo': {'DATE': '6/29/2023', 'TIME': '2:01:00 PM'}, 'aah': {'DATE': '6/30/2023', 'NAME': 'aah', 'TIME': '8:32:12 AM'}, 'cestino': {'DATE': '7/4/2023', 'NAME': 'cestino', 'TIME': '12:44:47 PM'}, 'cestiono': {'DATE': '6/30/2023', 'NAME': 'cestiono', 'TIME': '2:09:58 PM'}, 'gerardo': {'DATE': '6/29/2023', 'TIME': '12:48:44 PM'}, 'piezpesante': {'DATE': '6/29/2023', 'NAME': 'piezpesante', 'TIME': '2:16:27 PM'}, 'topp': {'DATE': '6/30/2023', 'NAME': 'topp', 'TIME': '8:28:02 AM'}}\n",
      "Modifica nel database rilevata.\n",
      "{'DATE': '7/4/2023', 'NAME': 'cestino', 'TIME': '12:45:53 PM'}\n",
      "Dati salvati su file: C:\\Users\\luigi/data.json\n",
      "{'DATE': '7/4/2023', 'NAME': 'cestino', 'TIME': '12:45:53 PM'}\n",
      "Modifica nel database rilevata.\n",
      "{'DATE': '7/4/2023', 'NAME': 'cestino', 'TIME': '12:46:07 PM'}\n",
      "Dati salvati su file: C:\\Users\\luigi/data.json\n",
      "{'DATE': '7/4/2023', 'NAME': 'cestino', 'TIME': '12:46:07 PM'}\n"
     ]
    }
   ],
   "source": [
    "import datetime\n",
    "import json\n",
    "import os\n",
    "import firebase_admin\n",
    "from firebase_admin import credentials\n",
    "from firebase_admin import db\n",
    "\n",
    "# Funzione per convertire la data e l'ora in un formato ordinabile\n",
    "def convert_to_datetime(obj):\n",
    "    try:\n",
    "     date_str = obj['DATE']\n",
    "     time_str = obj['TIME']\n",
    "     datetime_str = f\"{date_str} {time_str}\"\n",
    "     return datetime.datetime.strptime(datetime_str, '%m/%d/%Y %I:%M:%S %p')\n",
    "    except:\n",
    "        return None\n",
    "\n",
    "# Funzione per salvare i dati su file\n",
    "def save_data_to_file(newest_name, newest_time):\n",
    "    data_to_save = {\n",
    "        'newest_name': newest_name,\n",
    "        'newest_time': newest_time.strftime('%m/%d/%Y %I:%M:%S %p')\n",
    "    }\n",
    "\n",
    "    file_name = 'data.json'  # Nome del file da salvare\n",
    "    file_path = os.path.expanduser(f'~/{file_name}')  # Percorso completo del file nella directory personale\n",
    "\n",
    "    with open(file_path, 'w') as file:\n",
    "        json.dump(data_to_save, file)\n",
    "\n",
    "    print(f'Dati salvati su file: {file_path}')\n",
    "\n",
    "# Inizializza l'app Firebase\n",
    "cred = credentials.Certificate(\"credenziali.json\")\n",
    "firebase_admin.initialize_app(cred, {\"databaseURL\": \"https://pepprname-default-rtdb.europe-west1.firebasedatabase.app/\"})\n",
    "\n",
    "# Crea un riferimento al nodo radice\n",
    "ref = db.reference(\"/Name\")\n",
    "\n",
    "# Definisci la funzione di gestione degli eventi di aggiornamento\n",
    "def handle_update(event):\n",
    "    print('Modifica nel database rilevata.')\n",
    "    print(event.data)\n",
    "    dati = event.data  # Dati aggiornati nel database\n",
    "    try:\n",
    "    # Salva i dati aggiornati su file\n",
    "        save_data_to_file(dati[\"NAME\"] if dati[\"NAME\"] is not None else \"\", convert_to_datetime(dati))\n",
    "        print(dati)\n",
    "    except:pass\n",
    "\n",
    "# Registra l'ascoltatore sugli eventi di aggiornamento\n",
    "ref.listen(handle_update)\n",
    "\n",
    "# Mantieni il programma in esecuzione per ascoltare gli eventi\n",
    "while True:\n",
    "    pass\n"
   ]
  },
  {
   "cell_type": "code",
   "execution_count": null,
   "id": "565d4bdd",
   "metadata": {},
   "outputs": [],
   "source": []
  }
 ],
 "metadata": {
  "kernelspec": {
   "display_name": "Python 3 (ipykernel)",
   "language": "python",
   "name": "python3"
  },
  "language_info": {
   "codemirror_mode": {
    "name": "ipython",
    "version": 3
   },
   "file_extension": ".py",
   "mimetype": "text/x-python",
   "name": "python",
   "nbconvert_exporter": "python",
   "pygments_lexer": "ipython3",
   "version": "3.8.0"
  }
 },
 "nbformat": 4,
 "nbformat_minor": 5
}
